{
  "nbformat": 4,
  "nbformat_minor": 0,
  "metadata": {
    "colab": {
      "provenance": []
    },
    "kernelspec": {
      "name": "python3",
      "display_name": "Python 3"
    },
    "language_info": {
      "name": "python"
    }
  },
  "cells": [
    {
      "cell_type": "markdown",
      "source": [
        "#### **Explanation**\n",
        "* Learn how to design a **two-agent architecture** where one agent plans and another executes tasks.\n",
        "* Understand the use of a **Planner Agent** to break down natural language instructions (e.g., “make tea”) into logical, ordered steps.\n",
        "* Practice **rule-based intent detection** using Python string matching (`if \"make tea\" in task.lower()`).\n",
        "* See how plans are represented as **lists of steps**, each corresponding to a sub-task in the overall goal.\n",
        "* The **Executor Agent** simulates completing each planned step in sequence, mimicking a task performer.\n",
        "* Demonstrates **agent collaboration**: one agent decides *what* to do, and the other decides *how* to do it.\n",
        "* Reinforce **modular function design** principles by clearly separating planning and execution logic.\n",
        "* Build foundational intuition for scaling to complex agents involving memory, dynamic tools, or adaptive planning.\n",
        "* Encourages thinking in terms of **task decomposition**—a critical concept in agent design and robotics.\n",
        "* Includes rich **debug-style print statements** for tracing internal agent reasoning and execution flow.\n",
        "\n",
        "#### **Key Concepts Reinforced**\n",
        "* Multi-agent collaboration\n",
        "* Rule-based planning\n",
        "* Sequential task execution\n",
        "* Modular function design\n",
        "* Explainable decision paths\n",
        "\n"
      ],
      "metadata": {
        "id": "F_MUVHA3E1hT"
      }
    },
    {
      "cell_type": "code",
      "execution_count": null,
      "metadata": {
        "id": "z2zB5gWvbyFa",
        "collapsed": true
      },
      "outputs": [],
      "source": [
        "# Planner agent decides what steps are needed\n",
        "def planner_agent(task):\n",
        "    print(\"\\nPlanner Agent: Received task:\", task)\n",
        "\n",
        "    if \"make tea\" in task.lower():\n",
        "        plan = [\"Boil water\", \"Add tea leaves\", \"Pour into cup\", \"Serve\"]\n",
        "    elif \"write email\" in task.lower():\n",
        "        plan = [\"Open email app\", \"Write subject\", \"Write message\", \"Click send\"]\n",
        "    else:\n",
        "        plan = [\"Sorry, I don’t have a plan for that.\"]\n",
        "\n",
        "    print(\"Planner Agent: Generated the following plan:\")\n",
        "    for i, step in enumerate(plan, 1):\n",
        "        print(f\"  Step {i}: {step}\")\n",
        "\n",
        "    return plan\n",
        "\n",
        "# Executor agent performs each step\n",
        "def executor_agent(steps):\n",
        "    print(\"\\nExecutor Agent: Starting execution...\\n\")\n",
        "    for step in steps:\n",
        "        print(f\"Executing -> {step}... Done.\")\n",
        "    print(\"\\nExecutor Agent: Task complete.\")\n",
        "\n",
        "# Combined system\n",
        "print(\"Multi-Agent System (Planner + Executor)\")\n",
        "task = input(\"Enter a task (e.g., 'make tea', 'write email'): \")\n",
        "\n",
        "# Run planner and executor\n",
        "steps = planner_agent(task)\n",
        "executor_agent(steps)"
      ]
    }
  ]
}