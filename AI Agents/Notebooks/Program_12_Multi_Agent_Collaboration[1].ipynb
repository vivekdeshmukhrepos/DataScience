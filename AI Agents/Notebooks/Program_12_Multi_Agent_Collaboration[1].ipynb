{
  "nbformat": 4,
  "nbformat_minor": 0,
  "metadata": {
    "colab": {
      "provenance": []
    },
    "kernelspec": {
      "name": "python3",
      "display_name": "Python 3"
    },
    "language_info": {
      "name": "python"
    }
  },
  "cells": [
    {
      "cell_type": "markdown",
      "source": [
        "#### **Explanation:**\n",
        "* Demonstrates multi-agent cooperation\n",
        "* Agent roles are clearly divided: thinking vs doing\n",
        "* Foundation for more advanced agent orchestration"
      ],
      "metadata": {
        "id": "V630up6tdcpw"
      }
    },
    {
      "cell_type": "code",
      "source": [
        "import time\n",
        "import random"
      ],
      "metadata": {
        "id": "CIoOHVuEfOh2"
      },
      "execution_count": null,
      "outputs": []
    },
    {
      "cell_type": "code",
      "source": [
        "# ----------------------------------------\n",
        "# MessageBus: Handles communication between agents\n",
        "# ----------------------------------------\n",
        "class MessageBus:\n",
        "    def __init__(self):\n",
        "        self.messages = []\n",
        "\n",
        "    # Send message from one agent to another\n",
        "    def send(self, sender, receiver, content):\n",
        "        self.messages.append({\"from\": sender, \"to\": receiver, \"content\": content})\n",
        "\n",
        "    # Each agent fetches its own messages\n",
        "    def fetch(self, agent_name):\n",
        "        inbox = [msg for msg in self.messages if msg[\"to\"] == agent_name]\n",
        "        self.messages = [msg for msg in self.messages if msg[\"to\"] != agent_name]\n",
        "        return inbox"
      ],
      "metadata": {
        "id": "9AZ7pMUhfR9M"
      },
      "execution_count": null,
      "outputs": []
    },
    {
      "cell_type": "code",
      "source": [
        "# ----------------------------------------\n",
        "# Base Agent Class: All agents inherit from this\n",
        "# ----------------------------------------\n",
        "class Agent:\n",
        "    def __init__(self, name, bus):\n",
        "        self.name = name\n",
        "        self.bus = bus\n",
        "\n",
        "    # Standard logging method for all agents\n",
        "    def log(self, message, prefix=\"INFO\"):\n",
        "        print(f\"[{self.name}][{prefix}] {message}\")\n",
        "\n",
        "    # Each agent must define its own behavior\n",
        "    def act(self):\n",
        "        raise NotImplementedError"
      ],
      "metadata": {
        "id": "Si6wC3blfaLg"
      },
      "execution_count": null,
      "outputs": []
    },
    {
      "cell_type": "code",
      "source": [
        "# ----------------------------------------\n",
        "# UserAgent: Starts the system with user input\n",
        "# ----------------------------------------\n",
        "class UserAgent(Agent):\n",
        "    def act(self):\n",
        "        # Give clear choices so user knows what to input\n",
        "        print(\"Choose a task to delegate to the system:\")\n",
        "        print(\"1. Plan a team meeting\")\n",
        "        print(\"2. Create a project report\")\n",
        "        print(\"3. Enter custom task\")\n",
        "\n",
        "        # Get input from user\n",
        "        choice = input(\"Enter your choice (1/2/3): \")\n",
        "\n",
        "        # Map choice to actual task\n",
        "        if choice == \"1\":\n",
        "            task = \"plan a team meeting\"\n",
        "        elif choice == \"2\":\n",
        "            task = \"create a project report\"\n",
        "        else:\n",
        "            task = input(\"Enter your custom task:\\n> \")\n",
        "\n",
        "        # Log and send task to PlannerAgent\n",
        "        self.log(f\"Received user task: '{task}'\", \"INPUT\")\n",
        "        self.log(\"Sending task to PlannerAgent...\", \"ACTION\")\n",
        "        self.bus.send(self.name, \"PlannerAgent\", {\"type\": \"task\", \"data\": task})"
      ],
      "metadata": {
        "id": "DuYIgRh-feVh"
      },
      "execution_count": null,
      "outputs": []
    },
    {
      "cell_type": "code",
      "source": [
        "# ----------------------------------------\n",
        "# PlannerAgent: Breaks high-level task into smaller steps\n",
        "# ----------------------------------------\n",
        "class PlannerAgent(Agent):\n",
        "    def act(self):\n",
        "        for msg in self.bus.fetch(self.name):\n",
        "            task = msg[\"content\"][\"data\"]\n",
        "            self.log(f\"Received task from {msg['from']}: '{task}'\", \"RECEIVED\")\n",
        "\n",
        "            # Create task plan depending on the input\n",
        "            if \"meeting\" in task.lower():\n",
        "                plan = [\"Check team availability\", \"Find common slot\", \"Book meeting room\", \"Send invites\"]\n",
        "            elif \"report\" in task.lower():\n",
        "                plan = [\"Collect data\", \"Analyze metrics\", \"Write summary\", \"Share report\"]\n",
        "            else:\n",
        "                plan = [\"Manual breakdown required\", \"Request clarification from user\"]\n",
        "\n",
        "            # Log and send the plan to the SchedulerAgent\n",
        "            self.log(f\"Created plan: {plan}\", \"PLANNING\")\n",
        "            self.log(\"Sending plan to SchedulerAgent...\", \"ACTION\")\n",
        "            self.bus.send(self.name, \"SchedulerAgent\", {\"type\": \"plan\", \"data\": plan})"
      ],
      "metadata": {
        "id": "eJRCIMFEfjiN"
      },
      "execution_count": null,
      "outputs": []
    },
    {
      "cell_type": "code",
      "source": [
        "# ----------------------------------------\n",
        "# SchedulerAgent: Assigns time slots to each step in the plan\n",
        "# ----------------------------------------\n",
        "class SchedulerAgent(Agent):\n",
        "    def act(self):\n",
        "        for msg in self.bus.fetch(self.name):\n",
        "            plan = msg[\"content\"][\"data\"]\n",
        "            self.log(f\"Received plan from {msg['from']}: {plan}\", \"RECEIVED\")\n",
        "\n",
        "            scheduled = []\n",
        "            self.log(\"Scheduling tasks with random time slots...\", \"SCHEDULING\")\n",
        "\n",
        "            # Randomly assign a time slot to each step\n",
        "            for step in plan:\n",
        "                slot = f\"{random.randint(9, 17)}:00\"\n",
        "                scheduled_step = f\"{step} @ {slot}\"\n",
        "                self.log(f\" : {scheduled_step}\", \"SCHEDULED\")\n",
        "                scheduled.append(scheduled_step)\n",
        "\n",
        "            # Send scheduled steps to ExecutorAgent\n",
        "            self.log(\"Sending scheduled steps to ExecutorAgent...\", \"ACTION\")\n",
        "            self.bus.send(self.name, \"ExecutorAgent\", {\"type\": \"schedule\", \"data\": scheduled})"
      ],
      "metadata": {
        "id": "ja_Ox2jbfo05"
      },
      "execution_count": null,
      "outputs": []
    },
    {
      "cell_type": "code",
      "source": [
        "# ----------------------------------------\n",
        "# ExecutorAgent: Executes each step in order\n",
        "# ----------------------------------------\n",
        "class ExecutorAgent(Agent):\n",
        "    def __init__(self, name, bus):\n",
        "        super().__init__(name, bus)\n",
        "        self.done = False  # Set to True when task is complete\n",
        "\n",
        "    def act(self):\n",
        "        for msg in self.bus.fetch(self.name):\n",
        "            steps = msg[\"content\"][\"data\"]\n",
        "            self.log(f\"Received steps to execute from {msg['from']}\", \"RECEIVED\")\n",
        "            self.log(\"Beginning execution of steps...\", \"EXECUTION\")\n",
        "\n",
        "            # Simulate each step with a small delay\n",
        "            for step in steps:\n",
        "                self.log(f\"Executing → {step}\", \"STEP\")\n",
        "                time.sleep(0.3)\n",
        "\n",
        "            self.log(\"Execution complete.\", \"DONE\")\n",
        "            self.done = True  # Stop system after this"
      ],
      "metadata": {
        "id": "2kbMGJdHftK7"
      },
      "execution_count": null,
      "outputs": []
    },
    {
      "cell_type": "code",
      "source": [
        "# ----------------------------------------\n",
        "# Main system loop: Runs all agents in order until task completes\n",
        "# ----------------------------------------\n",
        "def run_multi_agent_system():\n",
        "    # Create message bus\n",
        "    bus = MessageBus()\n",
        "\n",
        "    # Initialize all agents\n",
        "    user = UserAgent(\"UserAgent\", bus)\n",
        "    planner = PlannerAgent(\"PlannerAgent\", bus)\n",
        "    scheduler = SchedulerAgent(\"SchedulerAgent\", bus)\n",
        "    executor = ExecutorAgent(\"ExecutorAgent\", bus)\n",
        "\n",
        "    # Group agents for easy looping\n",
        "    agents = [planner, scheduler, executor]\n",
        "\n",
        "    print(\"=== Multi-Agent System Started ===\\n\")\n",
        "\n",
        "    # Step 1: Get input and trigger flow\n",
        "    user.act()\n",
        "\n",
        "    # Step 2: Run cycles until execution is complete\n",
        "    max_cycles = 10  # Fail-safe to prevent infinite loop\n",
        "    for cycle in range(max_cycles):\n",
        "        print(f\"\\n--- Agent Cycle {cycle+1} ---\")\n",
        "        for agent in agents:\n",
        "            agent.act()\n",
        "\n",
        "        # If final execution is done, shut down\n",
        "        if executor.done:\n",
        "            print(\"\\nTask completed. System shutting down.\")\n",
        "            break\n",
        "\n",
        "        time.sleep(0.5)"
      ],
      "metadata": {
        "id": "elVtRrKHfxSx"
      },
      "execution_count": null,
      "outputs": []
    },
    {
      "cell_type": "code",
      "execution_count": null,
      "metadata": {
        "id": "j847BMnkdPRC"
      },
      "outputs": [],
      "source": [
        "run_multi_agent_system()"
      ]
    }
  ]
}