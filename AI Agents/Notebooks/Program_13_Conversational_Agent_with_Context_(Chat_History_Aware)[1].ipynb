{
  "nbformat": 4,
  "nbformat_minor": 0,
  "metadata": {
    "colab": {
      "provenance": []
    },
    "kernelspec": {
      "name": "python3",
      "display_name": "Python 3"
    },
    "language_info": {
      "name": "python"
    }
  },
  "cells": [
    {
      "cell_type": "markdown",
      "source": [
        "#### **Explanation:**\n",
        "* Builds awareness of past interactions\n",
        "* Simulates short-term context (like LLMs with token memory)\n",
        "* Shows stateful agent design"
      ],
      "metadata": {
        "id": "x1gz_SCSiBgX"
      }
    },
    {
      "cell_type": "code",
      "execution_count": null,
      "metadata": {
        "colab": {
          "base_uri": "https://localhost:8080/"
        },
        "id": "2WZ_ASlUh5M0",
        "outputId": "95246377-79da-4353-ea70-1bad360eaf47"
      },
      "outputs": [
        {
          "output_type": "stream",
          "name": "stdout",
          "text": [
            "Context-Aware Agent\n",
            "Ask questions like 'How are you?', 'What did we talk about?'. Type 'exit' to stop.\n",
            "You: How are you?\n",
            "Agent: I'm doing well, thanks! You asked me that before too.\n",
            "You: What are you doing?\n",
            "Agent: Interesting! Tell me more.\n",
            "You: What did we talk about?\n",
            "Agent: So far we've discussed: How are you?, What are you doing?\n",
            "You: exit\n",
            "Agent: Goodbye! I’ll forget this chat.\n"
          ]
        }
      ],
      "source": [
        "# List to store chat history\n",
        "chat_history = []\n",
        "\n",
        "# Simple agent that uses recent history to respond more naturally\n",
        "def context_agent(user_input):\n",
        "    chat_history.append(user_input)\n",
        "\n",
        "    if \"how are you\" in user_input.lower():\n",
        "        return \"I'm doing well, thanks! You asked me that before too.\"\n",
        "    elif \"what did we talk about\" in user_input.lower():\n",
        "        if len(chat_history) > 1:\n",
        "            return \"So far we've discussed: \" + \", \".join(chat_history[:-1])\n",
        "        else:\n",
        "            return \"We've just started chatting!\"\n",
        "    else:\n",
        "        return \"Interesting! Tell me more.\"\n",
        "\n",
        "# Main loop\n",
        "print(\"Context-Aware Agent\")\n",
        "print(\"Ask questions like 'How are you?', 'What did we talk about?'. Type 'exit' to stop.\")\n",
        "\n",
        "while True:\n",
        "    user_input = input(\"You: \")\n",
        "    if user_input.lower() == \"exit\":\n",
        "        print(\"Agent: Goodbye! I’ll forget this chat.\")\n",
        "        break\n",
        "    print(\"Agent:\", context_agent(user_input))"
      ]
    }
  ]
}