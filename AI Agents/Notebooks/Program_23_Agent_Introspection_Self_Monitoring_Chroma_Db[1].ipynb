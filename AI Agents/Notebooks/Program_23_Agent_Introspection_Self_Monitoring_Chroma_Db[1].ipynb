{
  "nbformat": 4,
  "nbformat_minor": 0,
  "metadata": {
    "colab": {
      "provenance": []
    },
    "kernelspec": {
      "name": "python3",
      "display_name": "Python 3"
    },
    "language_info": {
      "name": "python"
    }
  },
  "cells": [
    {
      "cell_type": "markdown",
      "source": [
        "#### **Explanation:**\n",
        "* Simulates a self-aware agent that logs not only what it says, but also why it made that choice.\n",
        "* Stores introspective reasoning alongside the agent's responses for each user input.\n",
        "* Uses ChromaDB to persist:\n",
        "** User messages\n",
        "** Agent replies\n",
        "** Agent reasoning (e.g., \"chose to answer informally due to casual tone\")\n",
        "* Helps with debugging, self-reflection, and training autonomous agents.\n",
        "* Enables future agents to review past decision traces to improve behavior over time.\n",
        "* Interactive console-based interface with:\n",
        "** **show** - view all logs (input, output, introspection)\n",
        "** **clear** delete stored history\n",
        "** **logout** switch user\n",
        "** **exit** quit the program"
      ],
      "metadata": {
        "id": "nOmlySoioBgc"
      }
    },
    {
      "cell_type": "code",
      "execution_count": null,
      "metadata": {
        "id": "xF3jHazSdQGv"
      },
      "outputs": [],
      "source": [
        "!pip install --upgrade chromadb --quiet\n",
        "!pip install sentence-transformers --quiet"
      ]
    },
    {
      "cell_type": "code",
      "source": [
        "import chromadb\n",
        "from sentence_transformers import SentenceTransformer\n",
        "from chromadb.config import Settings\n",
        "import time\n",
        "from datetime import datetime"
      ],
      "metadata": {
        "id": "GUMG1RczxCAj"
      },
      "execution_count": null,
      "outputs": []
    },
    {
      "cell_type": "code",
      "source": [
        "# Initialize ChromaDB persistent client\n",
        "PERSIST_DIR = \"/content/chroma_goal_agent\"\n",
        "chroma_client = chromadb.PersistentClient(path=PERSIST_DIR)\n",
        "\n",
        "# Create or load a collection\n",
        "COLLECTION_NAME = \"goals\"\n",
        "collection = chroma_client.get_or_create_collection(name=COLLECTION_NAME)"
      ],
      "metadata": {
        "id": "XPM1b6qh0ltl"
      },
      "execution_count": null,
      "outputs": []
    },
    {
      "cell_type": "code",
      "source": [
        "# Store a goal with metadata\n",
        "def store_goal(user_id, goal_text):\n",
        "    goal_id = f\"{user_id}_{int(time.time())}\"\n",
        "    timestamp = datetime.now().strftime(\"%Y-%m-%d %H:%M:%S\")\n",
        "    metadatas = [{\n",
        "        \"timestamp\": timestamp,\n",
        "        \"category\": \"general\",\n",
        "        \"user_id\": user_id\n",
        "    }]\n",
        "    collection.add(\n",
        "        documents=[goal_text],\n",
        "        ids=[goal_id],\n",
        "        metadatas=metadatas\n",
        "    )\n",
        "    print(\"Goal stored successfully.\")"
      ],
      "metadata": {
        "id": "Sr7jW-2u0rHF"
      },
      "execution_count": null,
      "outputs": []
    },
    {
      "cell_type": "code",
      "source": [
        "# Recall similar goals using ChromaDB's similarity search\n",
        "def recall_goals(query_text, top_k=3):\n",
        "    results = collection.query(query_texts=[query_text], n_results=top_k)\n",
        "    matches = results.get(\"documents\", [[]])[0]\n",
        "    ids = results.get(\"ids\", [[]])[0]\n",
        "    metadata_list = results.get(\"metadatas\", [[]])[0]\n",
        "\n",
        "    if matches:\n",
        "        print(f\"Top {len(matches)} similar goals:\")\n",
        "        for i, (goal, meta) in enumerate(zip(matches, metadata_list), 1):\n",
        "            timestamp = meta.get(\"timestamp\", \"unknown\")\n",
        "            category = meta.get(\"category\", \"general\")\n",
        "            print(f\"{i}. Goal: {goal}\")\n",
        "            print(f\"   Time: {timestamp} | Category: {category}\")\n",
        "    else:\n",
        "        print(\"No similar goals found.\")"
      ],
      "metadata": {
        "id": "4KsETmLB0zZX"
      },
      "execution_count": null,
      "outputs": []
    },
    {
      "cell_type": "code",
      "source": [
        "# View all stored goals with metadata\n",
        "def view_all_goals():\n",
        "    all_data = collection.get()\n",
        "    docs = all_data.get(\"documents\", [])\n",
        "    metas = all_data.get(\"metadatas\", [])\n",
        "    ids = all_data.get(\"ids\", [])\n",
        "\n",
        "    if not docs:\n",
        "        print(\"No goals stored yet.\")\n",
        "        return\n",
        "\n",
        "    for i, (goal, meta, doc_id) in enumerate(zip(docs, metas, ids), 1):\n",
        "        timestamp = meta.get(\"timestamp\", \"unknown\")\n",
        "        category = meta.get(\"category\", \"general\")\n",
        "        print(f\"{i}. ID: {doc_id}\")\n",
        "        print(f\"   Goal: {goal}\")\n",
        "        print(f\"   Time: {timestamp} | Category: {category}\")"
      ],
      "metadata": {
        "id": "Icqc987W04WU"
      },
      "execution_count": null,
      "outputs": []
    },
    {
      "cell_type": "code",
      "source": [
        "# Clear all stored goals\n",
        "def clear_all_goals():\n",
        "    all_data = collection.get()\n",
        "    ids_to_delete = all_data.get(\"ids\", [])\n",
        "    if ids_to_delete:\n",
        "        collection.delete(ids=ids_to_delete)\n",
        "        print(\"All goals cleared.\")\n",
        "    else:\n",
        "        print(\"No goals to clear.\")"
      ],
      "metadata": {
        "id": "bdU-xlJX09bp"
      },
      "execution_count": null,
      "outputs": []
    },
    {
      "cell_type": "code",
      "source": [
        "# Interactive loop\n",
        "def run_goal_agent():\n",
        "    print(\"Goal-Based Agent (type 'exit' to quit)\")\n",
        "    print(\"Commands:\")\n",
        "    print(\"  recall <text>     - Find similar stored goals\")\n",
        "    print(\"  history           - View all stored goals\")\n",
        "    print(\"  clear             - Delete all stored goals\")\n",
        "    print(\"  <anything else>   - Save as new goal\")\n",
        "\n",
        "    while True:\n",
        "        user_input = input(\"You > \").strip()\n",
        "\n",
        "        if user_input.lower() == \"exit\":\n",
        "            print(\"Exiting.\")\n",
        "            break\n",
        "\n",
        "        elif user_input.lower() == \"history\":\n",
        "            view_all_goals()\n",
        "\n",
        "        elif user_input.lower() == \"clear\":\n",
        "            clear_all_goals()\n",
        "\n",
        "        elif user_input.lower().startswith(\"recall \"):\n",
        "            parts = user_input.split(maxsplit=1)\n",
        "            if len(parts) == 2:\n",
        "                recall_goals(parts[1])\n",
        "            else:\n",
        "                print(\"Usage: recall <keyword>\")\n",
        "\n",
        "        else:\n",
        "            store_goal(\"user\", user_input)\n",
        "\n",
        "# Start agent\n",
        "run_goal_agent()"
      ],
      "metadata": {
        "id": "v-_6AN84pMR6"
      },
      "execution_count": null,
      "outputs": []
    }
  ]
}