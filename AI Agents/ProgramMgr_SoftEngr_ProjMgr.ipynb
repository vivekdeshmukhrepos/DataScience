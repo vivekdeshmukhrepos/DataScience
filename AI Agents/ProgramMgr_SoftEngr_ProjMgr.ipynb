{
 "cells": [
  {
   "cell_type": "code",
   "execution_count": null,
   "metadata": {
    "polyglot_notebook": {
     "kernelName": "csharp"
    }
   },
   "outputs": [
    {
     "data": {
      "text/html": [
       "<div><div></div><div></div><div><strong>Installed Packages</strong><ul><li><span>Microsoft.SemanticKernel.Agents.Abstractions, 1.14.1-alpha</span></li><li><span>Microsoft.SemanticKernel.Agents.Core, 1.14.1-alpha</span></li><li><span>Microsoft.SemanticKernel.Agents.OpenAI, 1.14.1-alpha</span></li><li><span>Microsoft.SemanticKernel.Connectors.OpenAI, 1.14.1</span></li></ul></div></div>"
      ]
     },
     "metadata": {},
     "output_type": "display_data"
    }
   ],
   "source": [
    "#r \"nuget: Microsoft.SemanticKernel.Agents.Abstractions, 1.14.1-alpha\"\n",
    "#r \"nuget: Microsoft.SemanticKernel.Agents.Core, 1.14.1-alpha\"\n",
    "#r \"nuget: Microsoft.SemanticKernel.Agents.OpenAI, 1.14.1-alpha\"\n",
    "#r \"nuget: Microsoft.SemanticKernel.Connectors.OpenAI, 1.14.1-alpha\""
   ]
  },
  {
   "cell_type": "code",
   "execution_count": null,
   "metadata": {
    "polyglot_notebook": {
     "kernelName": "csharp"
    }
   },
   "outputs": [],
   "source": [
    "using System.ComponentModel;\n",
    "using Microsoft.SemanticKernel;\n",
    "using Microsoft.SemanticKernel.Agents;\n",
    "using Microsoft.SemanticKernel.Agents.OpenAI;\n",
    "using Microsoft.SemanticKernel.ChatCompletion;\n",
    "using Microsoft.SemanticKernel.Connectors.OpenAI;\n",
    "using Microsoft.SemanticKernel.Agents.Chat;"
   ]
  },
  {
   "cell_type": "code",
   "execution_count": null,
   "metadata": {
    "polyglot_notebook": {
     "kernelName": "csharp"
    }
   },
   "outputs": [],
   "source": [
    "var OaiApiKey = \"<your OpenAI KEY>\";"
   ]
  },
  {
   "cell_type": "code",
   "execution_count": null,
   "metadata": {
    "polyglot_notebook": {
     "kernelName": "csharp"
    }
   },
   "outputs": [],
   "source": [
    "Kernel kernel = Kernel.CreateBuilder()\n",
    "        .AddOpenAIChatCompletion(\n",
    "                modelId: \"gpt-4o\",\n",
    "                apiKey: OaiApiKey)\n",
    "            .Build();"
   ]
  },
  {
   "cell_type": "code",
   "execution_count": null,
   "metadata": {
    "polyglot_notebook": {
     "kernelName": "csharp"
    }
   },
   "outputs": [],
   "source": [
    "// Lets given the Persona to Agents\n",
    "\n",
    "string progamManager = \"\"\"\n",
    "    You are a Program Manager responsible for gathering user requirements and developing a detailed project plan for app development. You analyze needs, define functional specifications, and deliver comprehensive documentation including scope, timelines, and cost estimates.. \n",
    "\"\"\";\n",
    "\n",
    "string softwareEngineer = \"\"\"\n",
    "   You are a Software Engineer tasked with building a web app using HTML and JavaScript based on the requirements provided by the Program Manager.\n",
    "\"\"\";\n",
    "\n",
    "string projectManager = \"\"\"\n",
    "    You are a Manager responsible for reviewing the Software Engineer’s code to ensure it meets all client requirements. As the quality gatekeeper, you verify that the final product aligns with specifications and is ready for release. If everything is in order, respond with 'approve'.\n",
    "\"\"\";"
   ]
  },
  {
   "cell_type": "code",
   "execution_count": null,
   "metadata": {
    "polyglot_notebook": {
     "kernelName": "csharp"
    }
   },
   "outputs": [],
   "source": [
    "#pragma warning disable SKEXP0110, SKEXP0001 // Rethrow to preserve stack details\n",
    "\n",
    " ChatCompletionAgent progaramManagerAgent =\n",
    "            new()\n",
    "            {\n",
    "                Instructions = progamManager,\n",
    "                Name = \"ProgaramManagerAgent\",\n",
    "                Kernel = kernel\n",
    "            };\n",
    "\n",
    " ChatCompletionAgent softwareEngineerAgent =\n",
    "            new()\n",
    "            {\n",
    "                Instructions = softwareEngineer,\n",
    "                Name = \"SoftwareEngineerAgent\",\n",
    "                Kernel = kernel\n",
    "            };\n",
    "\n",
    " ChatCompletionAgent projectManagerAgent =\n",
    "            new()\n",
    "            {\n",
    "                Instructions = projectManager,\n",
    "                Name = \"ProjectManagerAgent\",\n",
    "                Kernel = kernel\n",
    "            };"
   ]
  },
  {
   "cell_type": "code",
   "execution_count": null,
   "metadata": {
    "polyglot_notebook": {
     "kernelName": "csharp"
    }
   },
   "outputs": [],
   "source": [
    " #pragma warning disable SKEXP0110, SKEXP0001 // Rethrow to preserve stack details\n",
    "    \n",
    "    using System.Threading;\n",
    "    \n",
    "    private sealed class ApprovalTerminationStrategy : TerminationStrategy\n",
    "    {\n",
    "        // Terminate when the final message contains the term \"approve\"\n",
    "        protected override Task<bool> ShouldAgentTerminateAsync(Agent agent, IReadOnlyList<ChatMessageContent> history, CancellationToken cancellationToken)\n",
    "            => Task.FromResult(history[history.Count - 1].Content?.Contains(\"approve\", StringComparison.OrdinalIgnoreCase) ?? false);\n",
    "    }"
   ]
  },
  {
   "cell_type": "code",
   "execution_count": null,
   "metadata": {
    "polyglot_notebook": {
     "kernelName": "csharp"
    }
   },
   "outputs": [],
   "source": [
    "#pragma warning disable SKEXP0110, SKEXP0001 \n",
    "\n",
    "        AgentGroupChat chat =\n",
    "            new(progaramManagerAgent, softwareEngineerAgent, projectManagerAgent)\n",
    "            {\n",
    "                ExecutionSettings =\n",
    "                    new()\n",
    "                    {\n",
    "                        TerminationStrategy =\n",
    "                            new ApprovalTerminationStrategy()\n",
    "                            {\n",
    "                                Agents = [ProjectManagerAgent],\n",
    "                                MaximumIterations = 6,\n",
    "                            }\n",
    "                    }\n",
    "            };"
   ]
  },
  {
   "cell_type": "code",
   "execution_count": null,
   "metadata": {
    "polyglot_notebook": {
     "kernelName": "csharp"
    }
   },
   "outputs": [],
   "source": [
    "#pragma warning disable SKEXP0110, SKEXP0001 \n",
    "        // Invoke chat and display messages.\n",
    "        string input = \"\"\"\n",
    "        \n",
    "        Create a basic calculator app with essential features. Keep it simple. Await manager’s approval before finalizing.\n",
    "        \"\"\";\n",
    "\n",
    "        chat.AddChatMessage(new ChatMessageContent(AuthorRole.User, input));\n",
    "        Console.WriteLine($\"# {AuthorRole.User}: '{input}'\");\n",
    "\n",
    "        await foreach (var content in chat.InvokeAsync())\n",
    "        {\n",
    "            Console.WriteLine($\"# {content.Role} - {content.AuthorName ?? \"*\"}: '{content.Content}'\");\n",
    "        }"
   ]
  }
 ],
 "metadata": {
  "kernelspec": {
   "display_name": ".NET (C#)",
   "language": "C#",
   "name": ".net-csharp"
  },
  "polyglot_notebook": {
   "kernelInfo": {
    "defaultKernelName": "csharp",
    "items": [
     {
      "aliases": [],
      "languageName": "csharp",
      "name": "csharp"
     }
    ]
   }
  }
 },
 "nbformat": 4,
 "nbformat_minor": 2
}
