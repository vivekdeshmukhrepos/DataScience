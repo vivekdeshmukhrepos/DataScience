{
  "nbformat": 4,
  "nbformat_minor": 0,
  "metadata": {
    "colab": {
      "provenance": []
    },
    "kernelspec": {
      "name": "python3",
      "display_name": "Python 3"
    },
    "language_info": {
      "name": "python"
    }
  },
  "cells": [
    {
      "cell_type": "code",
      "execution_count": 36,
      "metadata": {
        "id": "cDfxQLPM4eQ1"
      },
      "outputs": [],
      "source": [
        "from firecrawl import FirecrawlApp\n",
        "from typing import List, Dict, Optional\n",
        "from datetime import datetime\n",
        "import time\n",
        "import uuid\n",
        "import os"
      ]
    },
    {
      "cell_type": "code",
      "source": [
        "doc_url = \"https://www.scrapethissite.com/pages/\"\n",
        "firecrawl_api_key = \"your api key\""
      ],
      "metadata": {
        "id": "GyBB5Zzr5CHN"
      },
      "execution_count": 42,
      "outputs": []
    },
    {
      "cell_type": "code",
      "source": [
        "def crawl_documentation(firecrawl_api_key: str, url: str, output_dir: Optional[str] = None):\n",
        "    firecrawl = FirecrawlApp(api_key=firecrawl_api_key)\n",
        "    pages = []\n",
        "\n",
        "    if output_dir:\n",
        "        os.makedirs(output_dir, exist_ok=True)\n",
        "\n",
        "    response = firecrawl.crawl_url(\n",
        "        url,\n",
        "        params={\n",
        "            'limit': 5,\n",
        "            'scrapeOptions': {\n",
        "                'formats': ['markdown', 'html']\n",
        "            }\n",
        "        }\n",
        "    )\n",
        "\n",
        "    # Convert the response to a dictionary\n",
        "    response_dict = response.model_dump()\n",
        "\n",
        "    while True:\n",
        "        for page in response_dict.get('data', []):\n",
        "            content = page.get('markdown') or page.get('html', '')\n",
        "            metadata = page.get('metadata', {})\n",
        "            source_url = metadata.get('sourceURL', '')\n",
        "\n",
        "            if output_dir and content:\n",
        "                filename = f\"{uuid.uuid4()}.md\"\n",
        "                filepath = os.path.join(output_dir, filename)\n",
        "                with open(filepath, 'w', encoding='utf-8') as f:\n",
        "                    f.write(content)\n",
        "\n",
        "            pages.append({\n",
        "                \"content\": content,\n",
        "                \"url\": source_url,\n",
        "                \"metadata\": {\n",
        "                    \"title\": metadata.get('title', ''),\n",
        "                    \"description\": metadata.get('description', ''),\n",
        "                    \"language\": metadata.get('language', 'en'),\n",
        "                    \"crawl_date\": datetime.now().isoformat()\n",
        "                }\n",
        "            })\n",
        "\n",
        "        next_url = response_dict.get('next')\n",
        "        if not next_url:\n",
        "            break\n",
        "\n",
        "        response = firecrawl.get(next_url)\n",
        "        response_dict = response.model_dump()  # Update dict for next iteration\n",
        "        time.sleep(1)\n",
        "\n",
        "    return pages"
      ],
      "metadata": {
        "id": "emIJk3Hu5fyp"
      },
      "execution_count": 43,
      "outputs": []
    },
    {
      "cell_type": "code",
      "source": [
        " pages = crawl_documentation(\n",
        "                           firecrawl_api_key,\n",
        "                            doc_url\n",
        "                        )\n",
        "\n",
        ""
      ],
      "metadata": {
        "id": "Q4dph5FY5Cxv"
      },
      "execution_count": 44,
      "outputs": []
    },
    {
      "cell_type": "code",
      "source": [
        "len(pages)"
      ],
      "metadata": {
        "colab": {
          "base_uri": "https://localhost:8080/"
        },
        "id": "Uobdu6mYBkOV",
        "outputId": "72dca759-ee4a-42f7-d78c-ba3da8fc65e8"
      },
      "execution_count": 45,
      "outputs": [
        {
          "output_type": "execute_result",
          "data": {
            "text/plain": [
              "48"
            ]
          },
          "metadata": {},
          "execution_count": 45
        }
      ]
    }
  ]
}