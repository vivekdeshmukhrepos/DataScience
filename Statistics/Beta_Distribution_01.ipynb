{
  "nbformat": 4,
  "nbformat_minor": 0,
  "metadata": {
    "colab": {
      "provenance": []
    },
    "kernelspec": {
      "name": "python3",
      "display_name": "Python 3"
    },
    "language_info": {
      "name": "python"
    }
  },
  "cells": [
    {
      "cell_type": "markdown",
      "source": [
        "## Bayesian A/B Testing Using Beta Distribution\n",
        "### A company is testing two versions of a webpage:\n",
        " • Version A (Control) had 500 visitors, out of which 50 signed up.\n",
        " • Version B (Test) had 400 visitors, out of which 60 signed up.\n"
      ],
      "metadata": {
        "id": "9saYQfq612Cd"
      }
    },
    {
      "cell_type": "code",
      "source": [
        "import math\n",
        "from scipy.stats import norm"
      ],
      "metadata": {
        "id": "80Kc-eFE17by"
      },
      "execution_count": null,
      "outputs": []
    },
    {
      "cell_type": "code",
      "source": [
        "visitor_A = 500 #Total Visitors for Vrsion A\n",
        "signedup_A = 50 #Success Visitors of A\n",
        "\n",
        "visitor_B = 400  #Total Visitors for Vrsion B\n",
        "signedup_B  = 60 #Success Visitors of B\n",
        "\n",
        "failures_A = visitor_A - signedup_A # Calculating unsuccessful visitors A\n",
        "failures_B = visitor_B - signedup_B # Calculating unsuccessful visitors B\n",
        "\n",
        "prior_alpha = 1\n",
        "prior_beta = 1\n",
        "\n",
        "posterior_alpha_A= prior_alpha + signedup_A\n",
        "posterior_beta_A= prior_beta + failures_A\n",
        "\n",
        "posterior_alpha_B= prior_alpha + signedup_B\n",
        "posterior_beta_B= prior_beta + failures_B\n",
        "\n",
        "mean_converstion_rate_A = round(posterior_alpha_A/(posterior_alpha_A + posterior_beta_A),4)\n",
        "mean_converstion_rate_B = round(posterior_alpha_B/(posterior_alpha_B + posterior_beta_B),4)\n",
        "\n",
        "numerator_variance_A = posterior_alpha_A * posterior_beta_A\n",
        "denominator_variance_A = (posterior_alpha_A + posterior_beta_A) ** 2 * (posterior_alpha_A + posterior_beta_A +1)\n",
        "variance_A =  numerator_variance_A/denominator_variance_A\n",
        "standard_deviation_A  = math.sqrt(variance_A)\n",
        "\n",
        "numerator_variance_B = posterior_alpha_B * posterior_beta_B\n",
        "denominator_variance_B = (posterior_alpha_B + posterior_beta_B) ** 2 * (posterior_alpha_B + posterior_beta_B +1)\n",
        "variance_B =  numerator_variance_B/denominator_variance_B\n",
        "standard_deviation_B  = math.sqrt(variance_B)\n",
        "\n",
        "mean_diff = round(mean_converstion_rate_B - mean_converstion_rate_A, 4)\n",
        "variance_diff = variance_B + variance_A\n",
        "standard_deviation_diff = math.sqrt(variance_diff)\n",
        "\n",
        "z_score = round(-mean_diff /standard_deviation_diff,2)\n",
        "\n",
        "z_score_value = norm.cdf(z_score)\n",
        "probability = float(round(1 - z_score_value, 4))\n",
        "\n",
        "probability\n",
        "\n",
        "#print(f\"Probability is: {probability:.5f}\")"
      ],
      "metadata": {
        "colab": {
          "base_uri": "https://localhost:8080/"
        },
        "id": "DTQxTcES2FHO",
        "outputId": "6a0921b7-fdb8-47d2-9752-77ee2ee3359d"
      },
      "execution_count": null,
      "outputs": [
        {
          "output_type": "execute_result",
          "data": {
            "text/plain": [
              "0.9875"
            ]
          },
          "metadata": {},
          "execution_count": 26
        }
      ]
    }
  ]
}