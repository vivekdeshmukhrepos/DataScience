{
  "nbformat": 4,
  "nbformat_minor": 0,
  "metadata": {
    "colab": {
      "provenance": []
    },
    "kernelspec": {
      "name": "python3",
      "display_name": "Python 3"
    },
    "language_info": {
      "name": "python"
    }
  },
  "cells": [
    {
      "cell_type": "markdown",
      "source": [
        "#  Calculating Cumulative Probability Using the Beta Distribution (CDF)\n",
        "### A machine learning model's parameter θ is believed to follow a Beta distribution with\n",
        "parameters α = 2 and β = 3 based on prior observations. The team wants to calculate the\n",
        "cumulative probability that the parameter value is less than or equal to 0.6, i.e., compute P(θ ≤ 0.6).\n",
        "This involves manually integrating the Beta PDF from 0 to 0.6 to obtain the CDF value."
      ],
      "metadata": {
        "id": "1QI2QXwXBMFo"
      }
    },
    {
      "cell_type": "code",
      "source": [
        "import math\n",
        "\n"
      ],
      "metadata": {
        "id": "0TQFp3KgBQwq"
      },
      "execution_count": null,
      "outputs": []
    },
    {
      "cell_type": "code",
      "source": [
        "alpha = 2\n",
        "beta = 3\n",
        "x= 0.6\n",
        "\n",
        "gamma_alpha = math.factorial(alpha - 1)\n",
        "gamma_beta = math.factorial(beta - 1)\n",
        "gamma_alpha_plus_beta = math.factorial(alpha + beta -1)\n",
        "\n",
        "beta_function = (gamma_alpha * gamma_beta )/ gamma_alpha_plus_beta\n",
        "beta_cofficient = 1/beta_function\n",
        "\n",
        "t_upper = x\n",
        "\n",
        "# \"**\" is power operator\n",
        "t_squared = t_upper ** 2\n",
        "t_cubed = t_upper ** 3\n",
        "t_fourth = t_upper ** 4\n",
        "\n",
        "term1 = 6 * t_squared\n",
        "term2 = -8 * t_cubed\n",
        "term3 = 3 * t_fourth\n",
        "\n",
        "upper_value = term1+ term2 + term3\n",
        "lower_value = 0\n",
        "\n",
        "cumulative_probability = upper_value - lower_value\n",
        "cumulative_probability"
      ],
      "metadata": {
        "colab": {
          "base_uri": "https://localhost:8080/"
        },
        "id": "0-G8MUIRBjDI",
        "outputId": "b5bcfc76-f7d9-44f2-8d87-52d028ee7cdb"
      },
      "execution_count": null,
      "outputs": [
        {
          "output_type": "execute_result",
          "data": {
            "text/plain": [
              "0.8208000000000004"
            ]
          },
          "metadata": {},
          "execution_count": 6
        }
      ]
    }
  ]
}