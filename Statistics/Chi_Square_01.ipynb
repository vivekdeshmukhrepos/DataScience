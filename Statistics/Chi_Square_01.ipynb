{
  "nbformat": 4,
  "nbformat_minor": 0,
  "metadata": {
    "colab": {
      "provenance": []
    },
    "kernelspec": {
      "name": "python3",
      "display_name": "Python 3"
    },
    "language_info": {
      "name": "python"
    }
  },
  "cells": [
    {
      "cell_type": "markdown",
      "source": [
        "## Chi-Square Test for Independence\n",
        "### Suppose a survey was conducted to determine if customer satisfaction (Satisfied/Not\n",
        "Satisfied) is independent of product type (A/B). The data collected is shown below:\n",
        "\n",
        "```\n",
        "\t\t\t\t  Product A\tProduct B\tTotal\n",
        "Satisfied\t\t40\t\t\t30\t\t\t70\n",
        "Not Satisfied\t20\t\t\t10\t\t\t30\n",
        "Total\t\t\t60\t\t\t40\t\t\t100\n",
        "```\n",
        "\n"
      ],
      "metadata": {
        "id": "W5T2X_QIq6jy"
      }
    },
    {
      "cell_type": "code",
      "source": [
        "import numpy as np\n",
        "from scipy.stats import chi2"
      ],
      "metadata": {
        "id": "BiGT0vGOrA7S"
      },
      "execution_count": 1,
      "outputs": []
    },
    {
      "cell_type": "code",
      "source": [
        "observed = np.array([\n",
        "    [40,30],\n",
        "    [20,10]\n",
        "])\n",
        "\n",
        "significance_level = 0.05\n",
        "col_total = observed.sum(axis = 0)\n",
        "row_total = observed.sum(axis = 1)\n",
        "grand_total = observed.sum()\n",
        "\n",
        "\n",
        "exp_val_prod_A = int ((int(row_total[0])* int(col_total[0]) )/grand_total)\n",
        "exp_val_prod_B = int ((int(row_total[0])* int(col_total[1]) )/grand_total)\n",
        "\n",
        "un_exp_val_prod_A = int ((int(row_total[1]) * int(col_total[0]))/grand_total)\n",
        "un_exp_val_prod_B = int ((int(row_total[1]) * int(col_total[1]))/grand_total)\n",
        "\n",
        "col_total, row_total, grand_total, exp_val_prod_A, un_exp_val_prod_A,un_exp_val_prod_B\n",
        "\n",
        " # x2 = (40 - 42)2/42 + (30 - 28)2/28 + (20 - 18)2/18 + (10 - 12)2/1\n",
        "chi_square = float((observed[0][0])- exp_val_prod_A) ** 2/ exp_val_prod_A\n",
        "+ (int(observed[0][1] - exp_val_prod_B) ** 2/exp_val_prod_B)\n",
        "+ (int(observed[1][0] - un_exp_val_prod_A) ** 2/un_exp_val_prod_A)\n",
        "+ (int(observed[1][1] - un_exp_val_prod_B) ** 2/un_exp_val_prod_B)\n",
        "\n",
        "df= (len(observed) -1 ) * (len(observed[0]) -1 )\n",
        "critical_value = chi2.ppf(1- significance_level, df)\n",
        "critical_value\n"
      ],
      "metadata": {
        "colab": {
          "base_uri": "https://localhost:8080/"
        },
        "id": "q9VPqs6LsXio",
        "outputId": "4e0e5de2-3950-475c-ee5c-e71f8dfa5100"
      },
      "execution_count": 22,
      "outputs": [
        {
          "output_type": "execute_result",
          "data": {
            "text/plain": [
              "np.float64(3.841458820694124)"
            ]
          },
          "metadata": {},
          "execution_count": 22
        }
      ]
    },
    {
      "cell_type": "markdown",
      "source": [
        "####  Since, x2 = 0.793 < 3.841, we fail to reject the null hypothesis.\n",
        "### Conclusion:\n",
        "There is no significant relationship between customer satisfaction and product type.\n",
        "\n"
      ],
      "metadata": {
        "id": "jw6ymitp2JI7"
      }
    }
  ]
}