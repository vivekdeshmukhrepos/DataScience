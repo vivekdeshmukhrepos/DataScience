{
  "nbformat": 4,
  "nbformat_minor": 0,
  "metadata": {
    "colab": {
      "provenance": []
    },
    "kernelspec": {
      "name": "python3",
      "display_name": "Python 3"
    },
    "language_info": {
      "name": "python"
    }
  },
  "cells": [
    {
      "cell_type": "code",
      "execution_count": null,
      "metadata": {
        "id": "iGhyFu__2Y-5"
      },
      "outputs": [],
      "source": []
    },
    {
      "cell_type": "markdown",
      "source": [
        "### Goodness-of-Fit Test\n",
        "\n",
        "## Problem: A dice manufacturer claims their dice are fair. A fair dice should have each number appear 50 times in 300 rolls. The observed frequencies are:"
      ],
      "metadata": {
        "id": "pexr7hjW2bQE"
      }
    },
    {
      "cell_type": "code",
      "source": [
        "import numpy as np\n",
        "from scipy.stats import chi2\n"
      ],
      "metadata": {
        "id": "EsPC-oP72v71"
      },
      "execution_count": 12,
      "outputs": []
    },
    {
      "cell_type": "code",
      "source": [
        "observed = np.array([52, 48, 45, 51, 49, 55])\n",
        "significance_level = 0.05\n",
        "total = observed.sum()\n",
        "\n",
        "expected_freq = total/len(observed)\n",
        "\n",
        "chi_square = 0\n",
        "for i in observed:\n",
        "  chi_square = chi_square + ((i-expected_freq) ** 2) /expected_freq\n",
        "\n",
        "df= len(observed) -1\n",
        "critical_value = chi2.ppf(1- significance_level, df)\n",
        "\n",
        "if chi_square < critical_value:\n",
        "  print (f\"{chi_square} < {critical_value} we fail to reject the null hypothesis\")"
      ],
      "metadata": {
        "colab": {
          "base_uri": "https://localhost:8080/"
        },
        "id": "02ElGK6s252x",
        "outputId": "297ae950-1d59-4ace-e3f1-642608e643e8"
      },
      "execution_count": 13,
      "outputs": [
        {
          "output_type": "stream",
          "name": "stdout",
          "text": [
            "1.2000000000000002 < 11.070497693516351 we fail to reject the null hypothesis\n"
          ]
        }
      ]
    }
  ]
}