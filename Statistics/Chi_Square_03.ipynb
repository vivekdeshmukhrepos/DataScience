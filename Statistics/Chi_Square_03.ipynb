{
  "nbformat": 4,
  "nbformat_minor": 0,
  "metadata": {
    "colab": {
      "provenance": []
    },
    "kernelspec": {
      "name": "python3",
      "display_name": "Python 3"
    },
    "language_info": {
      "name": "python"
    }
  },
  "cells": [
    {
      "cell_type": "markdown",
      "source": [
        "### Testing Variance of a Population\n",
        "####  Problem: A machine's output is supposed to have a variance of σ2 = 4. A sample of 10\n",
        "measurements has a variance of 5.2. Test if the variance significantly differs from 4 at the 0.05\n",
        "significance level."
      ],
      "metadata": {
        "id": "C__XZggF6gqV"
      }
    },
    {
      "cell_type": "code",
      "source": [
        "import numpy as np\n",
        "import pandas as pd\n",
        "from scipy.stats import chi2"
      ],
      "metadata": {
        "id": "mLpOkeeC6sVm"
      },
      "execution_count": 1,
      "outputs": []
    },
    {
      "cell_type": "code",
      "source": [
        "n = 10\n",
        "significance_level = 0.05\n",
        "sample_variance = 5.2\n",
        "claimed_variance = 4\n",
        "\n",
        "chi_square = (n-1 )* sample_variance/claimed_variance\n",
        "df = n-1\n",
        "\n",
        "lower_tail_area = significance_level/2\n",
        "upper_tail_area =   1 - significance_level/2\n",
        "\n",
        "lower_critical_value = chi2.ppf(lower_tail_area, df)\n",
        "upper_critical_value = chi2.ppf(upper_tail_area, df)\n",
        "\n"
      ],
      "metadata": {
        "id": "uAiYSA5o6w2S"
      },
      "execution_count": 16,
      "outputs": []
    },
    {
      "cell_type": "markdown",
      "source": [
        "### Since 2.7000 < 11.7 < 19.022, we fail to reject the null hypothesis.\n",
        "## Conclusion:\n",
        "### There is no significant difference in variance.\n"
      ],
      "metadata": {
        "id": "HJLpwr3cBouv"
      }
    }
  ]
}