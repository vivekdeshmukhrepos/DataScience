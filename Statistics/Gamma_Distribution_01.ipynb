{
  "nbformat": 4,
  "nbformat_minor": 0,
  "metadata": {
    "colab": {
      "provenance": []
    },
    "kernelspec": {
      "name": "python3",
      "display_name": "Python 3"
    },
    "language_info": {
      "name": "python"
    }
  },
  "cells": [
    {
      "cell_type": "markdown",
      "source": [
        " # Modeling Repair Time of Industrial Machinery\n",
        " ## Problem: A manufacturing facility tracks the time required to repair its industrial machinery. Historical data\n",
        "indicates that the time taken to repair a machine follows a Gamma distribution with: Shape parameter (α) = 3,\n",
        "Scale parameter (β) = 2, Management wants to determine the probability that a randomly selected machine\n",
        "repair takes between 2 and 5 hours."
      ],
      "metadata": {
        "id": "JclFexM4rVUE"
      }
    },
    {
      "cell_type": "code",
      "source": [
        "import math\n",
        "from scipy.special import gammainc\n"
      ],
      "metadata": {
        "id": "hzqH2RTxrbrl"
      },
      "execution_count": null,
      "outputs": []
    },
    {
      "cell_type": "code",
      "source": [
        "alpha = 3\n",
        "beta = 2\n",
        "\n",
        "#Baysian inference\n",
        "gamma_alpha = math.factorial(alpha -1)\n",
        "gamma_beta = math.factorial(beta - 1)\n",
        "\n",
        "gamma_alpha_plus_beta = math.factorial((alpha+beta)-1)\n",
        "\n",
        "gamma_alpha, gamma_beta, gamma_alpha_plus_beta\n",
        "\n",
        "beta_function_value = gamma_alpha * gamma_beta/gamma_alpha_plus_beta\n",
        "\n",
        "\n",
        "reciprocal_beta_function = 1/ beta_function_value\n",
        "\n",
        "# Evaluate the Upper Limit θ = 0.5\n",
        "theta_upper = 0.5\n",
        "# \"**\" is power operator\n",
        "theta_upper_cubed = theta_upper ** 3\n",
        "theta_upper_forth = theta_upper ** 4\n",
        "pdf_upper_limit = 4 * theta_upper_cubed - 3 * theta_upper_forth\n",
        "pdf_upper_limit\n",
        "\n",
        "theta_lower = 0.2\n",
        "\n",
        "theta_lower_cubed = theta_lower ** 3\n",
        "theta_lower_forth = theta_lower ** 4\n",
        "pdf_lower_limit = 4 * theta_lower_cubed - 3 * theta_lower_forth\n",
        "\n",
        "probability_bounds = pdf_upper_limit - pdf_lower_limit\n",
        "\n",
        "probability_bounds\n",
        "\n",
        "print (f\"Probability  P(0.2 ≤ θ ≤ 0.5) :{probability_bounds}\")"
      ],
      "metadata": {
        "colab": {
          "base_uri": "https://localhost:8080/"
        },
        "id": "rCkJOUJorlT8",
        "outputId": "4e60dcf1-8871-4fb5-e74f-d75c3c3b32a1"
      },
      "execution_count": null,
      "outputs": [
        {
          "output_type": "stream",
          "name": "stdout",
          "text": [
            "Probability  P(0.2 ≤ θ ≤ 0.5) :0.2853\n"
          ]
        }
      ]
    },
    {
      "cell_type": "code",
      "source": [
        "#Solve using scipy library;s gamma function\n",
        "\n",
        "# alpha = 3\n",
        "# beta = 2\n",
        "\n",
        "# a = 1\n",
        "# b = 4\n",
        "\n",
        "# cdf_0_5 = gammainc(alpha, b / beta)\n",
        "# cdf_0_2 = gammainc(alpha, a / beta)\n",
        "\n",
        "# probability = cdf_0_5 - cdf_0_2\n",
        "# print(f\"gammainc({alpha}, {b/beta}) = {cdf_0_5:.5f}\")\n",
        "# print(f\"gammainc({alpha}, {a/beta}) = {cdf_0_2:.5f}\")\n",
        "# print(f\"Probability between {a} and {b}: {probability:.5f}\")\n"
      ],
      "metadata": {
        "colab": {
          "base_uri": "https://localhost:8080/"
        },
        "id": "5MZ4aRhGxe_t",
        "outputId": "677b1c6e-c206-4df2-ad4e-0b955c05996f"
      },
      "execution_count": null,
      "outputs": [
        {
          "output_type": "stream",
          "name": "stdout",
          "text": [
            "gammainc(3, 2.0) = 0.32332\n",
            "gammainc(3, 0.5) = 0.01439\n",
            "Probability between 1 and 4: 0.30894\n"
          ]
        }
      ]
    }
  ]
}