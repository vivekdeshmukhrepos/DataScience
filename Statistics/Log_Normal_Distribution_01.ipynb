{
  "nbformat": 4,
  "nbformat_minor": 0,
  "metadata": {
    "colab": {
      "provenance": []
    },
    "kernelspec": {
      "name": "python3",
      "display_name": "Python 3"
    },
    "language_info": {
      "name": "python"
    }
  },
  "cells": [
    {
      "cell_type": "markdown",
      "source": [],
      "metadata": {
        "id": "u0nCBQ01DEen"
      }
    },
    {
      "cell_type": "markdown",
      "source": [
        "### Probability Calculation for a Log-Normal Distribution\n",
        "#### Suppose the lifespan (in hours) of a certain type of battery follows a log-normal\n",
        "distribution with μ = 4 and σ = 0.3. What is the probability that a randomly chosen battery lasts\n",
        "more than 70 hours?"
      ],
      "metadata": {
        "id": "h8sObPf-DFxa"
      }
    },
    {
      "cell_type": "code",
      "source": [
        "import numpy as np\n",
        "from scipy.stats import norm"
      ],
      "metadata": {
        "id": "7EEQY_LGDKr-"
      },
      "execution_count": 3,
      "outputs": []
    },
    {
      "cell_type": "code",
      "source": [
        "# Step 1: Identify the parameters\n",
        "mu = 4      # Mean of the logarithm\n",
        "sigma = 0.3 # Standard deviation of the logarithm\n",
        "x = 70      # Value we are interested in"
      ],
      "metadata": {
        "id": "r6hkMRqpJCXz"
      },
      "execution_count": 4,
      "outputs": []
    },
    {
      "cell_type": "code",
      "source": [
        "# Step 2: Transform the value using logarithm\n",
        "y = np.log(x)\n",
        "\n",
        "# Step 3: Calculate the corresponding z-score\n",
        "z = (y - mu) / sigma\n",
        "\n",
        "# Step 4: Find probability using z-table (standard normal CDF)\n",
        "p_less_than = norm.cdf(z)\n",
        "\n",
        "# Step 5: Since we need P(X > 70), take the complement\n",
        "p_greater_than = 1 - p_less_than\n",
        "\n",
        "# Output the result\n",
        "print(f\"The probability that a randomly chosen battery lasts more than 70 hours is approximately {p_greater_than:.4f} ({p_greater_than*100:.2f}%)\")"
      ],
      "metadata": {
        "colab": {
          "base_uri": "https://localhost:8080/"
        },
        "id": "2wHdbbvCJJ4-",
        "outputId": "24e70e39-863a-478a-de93-27f26ac11537"
      },
      "execution_count": 5,
      "outputs": [
        {
          "output_type": "stream",
          "name": "stdout",
          "text": [
            "The probability that a randomly chosen battery lasts more than 70 hours is approximately 0.2037 (20.37%)\n"
          ]
        }
      ]
    }
  ]
}