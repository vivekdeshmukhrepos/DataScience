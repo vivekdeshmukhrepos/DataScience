{
  "nbformat": 4,
  "nbformat_minor": 0,
  "metadata": {
    "colab": {
      "provenance": []
    },
    "kernelspec": {
      "name": "python3",
      "display_name": "Python 3"
    },
    "language_info": {
      "name": "python"
    }
  },
  "cells": [
    {
      "cell_type": "markdown",
      "source": [
        "### Finding Median from Parameters\n",
        "####  A company's revenue (in millions) follows a log-normal distribution with μ = 2.5 & σ =\n",
        "0.5. Find the median revenue."
      ],
      "metadata": {
        "id": "Z8Dt07qVJqrw"
      }
    },
    {
      "cell_type": "code",
      "source": [
        "import numpy as np"
      ],
      "metadata": {
        "id": "o2YwJAWdJwB6"
      },
      "execution_count": 1,
      "outputs": []
    },
    {
      "cell_type": "code",
      "source": [
        "# Step 1: Identify the parameters\n",
        "mu = 2.5   # Mean of the logarithm\n",
        "sigma = 0.5  # Standard deviation of the logarithm (not needed for median)\n",
        "\n",
        "# Step 2 and 3: Calculate the Median using the formula Median = exp(mu)\n",
        "median_revenue = np.exp(mu)\n",
        "\n",
        "# Output the result\n",
        "print(f\"The median revenue is approximately {median_revenue:.2f} million.\")"
      ],
      "metadata": {
        "colab": {
          "base_uri": "https://localhost:8080/"
        },
        "id": "iOUnz4RXJ-s1",
        "outputId": "e4b17fad-7244-4108-8bbb-78d90ad2c431"
      },
      "execution_count": 2,
      "outputs": [
        {
          "output_type": "stream",
          "name": "stdout",
          "text": [
            "The median revenue is approximately 12.18 million.\n"
          ]
        }
      ]
    }
  ]
}