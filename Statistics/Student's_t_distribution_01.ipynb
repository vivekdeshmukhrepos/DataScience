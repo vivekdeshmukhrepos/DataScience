{
  "nbformat": 4,
  "nbformat_minor": 0,
  "metadata": {
    "colab": {
      "provenance": []
    },
    "kernelspec": {
      "name": "python3",
      "display_name": "Python 3"
    },
    "language_info": {
      "name": "python"
    }
  },
  "cells": [
    {
      "cell_type": "markdown",
      "source": [
        "### Confidence Interval for Population Mean\n",
        "#### A sample of 10 students' test scores shows an average score of 72 with a sample\n",
        "standard deviation of 8. Find the 95% confidence interval for the true mean score."
      ],
      "metadata": {
        "id": "BD66K-zqxIqa"
      }
    },
    {
      "cell_type": "code",
      "source": [
        "import math"
      ],
      "metadata": {
        "id": "GrzbzIdkxlNF"
      },
      "execution_count": null,
      "outputs": []
    },
    {
      "cell_type": "code",
      "source": [
        "# Given paramters\n",
        "n = 10\n",
        "sample_mean = 72\n",
        "sample_std_dev = 8\n",
        "\n",
        "t_critical = 2.262\n",
        "std_error = sample_std_dev/math.sqrt(n)\n",
        "\n",
        "margin_of_error = t_critical * std_error\n",
        "lower_bound = sample_mean - margin_of_error\n",
        "upper_bound = sample_mean + margin_of_error\n",
        "\n",
        "print (f\"95% Confidance interval: ({lower_bound:.2f},{upper_bound:.2f})\")\n"
      ],
      "metadata": {
        "colab": {
          "base_uri": "https://localhost:8080/"
        },
        "id": "L6g9mO06xokU",
        "outputId": "b49012ee-38e6-4699-831d-091b70a5679b"
      },
      "execution_count": null,
      "outputs": [
        {
          "output_type": "stream",
          "name": "stdout",
          "text": [
            "95% Confidance interval: (66.28,77.72)\n"
          ]
        }
      ]
    }
  ]
}