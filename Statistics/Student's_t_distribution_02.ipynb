{
  "nbformat": 4,
  "nbformat_minor": 0,
  "metadata": {
    "colab": {
      "provenance": []
    },
    "kernelspec": {
      "name": "python3",
      "display_name": "Python 3"
    },
    "language_info": {
      "name": "python"
    }
  },
  "cells": [
    {
      "cell_type": "markdown",
      "source": [
        "###  Hypothesis Testing for Mean\n",
        "####  A factory claims that its machine produces bolts with an average length of 5 cm. A\n",
        "sample of 15 bolts has an average length of 5.3 cm with a sample standard deviation of 0.4 cm.\n",
        "Test the factory’s claim at the 0.01 significance level."
      ],
      "metadata": {
        "id": "MAb7Vn6B0MrM"
      }
    },
    {
      "cell_type": "code",
      "source": [
        "import math"
      ],
      "metadata": {
        "id": "IstJP-oY0QPt"
      },
      "execution_count": null,
      "outputs": []
    },
    {
      "cell_type": "code",
      "source": [
        "n = 15\n",
        "sample_mean = 5.3\n",
        "population_mean = 5\n",
        "sample_std_dev = 0.4\n",
        "alpha = 0.01\n",
        "\n",
        "std_error = sample_std_dev/math.sqrt(n)\n",
        "t_statistics = round((sample_mean - population_mean)/std_error,3)\n",
        "\n",
        "t_critical_Value = 2.624\n",
        "\n",
        "if t_statistics > t_critical_Value:\n",
        "  decision = \"Reject the null Hypothesis.\"\n",
        "else:\n",
        "  decision = \"Fail to reject the null Hypothesis.\"\n",
        "\n",
        "print(f\"t_statistics: {t_statistics:.4f}\")\n",
        "print(f\"Critical t_value: {t_critical_Value:.4f}\")\n",
        "print (decision)\n"
      ],
      "metadata": {
        "colab": {
          "base_uri": "https://localhost:8080/"
        },
        "id": "1tB80bbM0RQ0",
        "outputId": "abd9de11-4bce-4a3b-b9a4-68ac3b1c9826"
      },
      "execution_count": null,
      "outputs": [
        {
          "output_type": "stream",
          "name": "stdout",
          "text": [
            "t_statistics: 2.9050\n",
            "Critical t_value: 2.6240\n",
            "Reject the null Hypothesis.\n"
          ]
        }
      ]
    }
  ]
}