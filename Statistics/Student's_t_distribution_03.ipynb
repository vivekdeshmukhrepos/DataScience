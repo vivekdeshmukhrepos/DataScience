{
  "nbformat": 4,
  "nbformat_minor": 0,
  "metadata": {
    "colab": {
      "provenance": []
    },
    "kernelspec": {
      "name": "python3",
      "display_name": "Python 3"
    },
    "language_info": {
      "name": "python"
    }
  },
  "cells": [
    {
      "cell_type": "markdown",
      "source": [
        "### Comparing Two Sample Means\n",
        "#### Two groups of students took a math test.\n",
        " • Group 1 (10 students): Mean score = 82, Standard deviation = 5\n",
        " • Group 2 (12 students): Mean score = 78, Standard deviation = 6\n",
        " Test at the 0.05 significance level if there’s a significant difference between the two groups"
      ],
      "metadata": {
        "id": "4g49NXgl3k9b"
      }
    },
    {
      "cell_type": "code",
      "source": [
        "import math"
      ],
      "metadata": {
        "id": "0iD-jWd-3pCD"
      },
      "execution_count": null,
      "outputs": []
    },
    {
      "cell_type": "code",
      "source": [
        "# Sample size of group 1\n",
        "n1= 10\n",
        "mean1 = 82\n",
        "std_dev1 = 5\n",
        "\n",
        "# Sample size of group 2\n",
        "n2 = 12\n",
        "mean2= 78\n",
        "std_dev2 = 6\n",
        "\n",
        "significance_level = 0.05\n",
        "\n",
        "std_error = math.sqrt((std_dev1 ** 2) / n1 + (std_dev2 ** 2) / n2)\n",
        "t_statistics = (mean1 - mean2) /std_error\n",
        "\n",
        "df = n1 + n2 -2\n",
        "\n",
        "t_critical_Value = 2.086\n",
        "if abs(t_statistics) > t_critical_Value:\n",
        "  decision = \"Reject the null Hypothesis.\"\n",
        "else:\n",
        "  decision = \"Fail to reject the null Hypothesis.\"\n",
        "\n",
        "print(f\"t_statistics: {t_statistics:.4f}\")\n",
        "print(f\"Critical t_value: {t_critical_Value:.4f}\")\n",
        "print (decision)\n"
      ],
      "metadata": {
        "colab": {
          "base_uri": "https://localhost:8080/"
        },
        "id": "gGRXuHr73rcz",
        "outputId": "a5bb8aa6-9365-471e-c930-3b714c0b3816"
      },
      "execution_count": null,
      "outputs": [
        {
          "output_type": "stream",
          "name": "stdout",
          "text": [
            "t_statistics: 1.7056\n",
            "Critical t_value: 2.0860\n",
            "Fail to reject the null Hypothesis.\n"
          ]
        }
      ]
    }
  ]
}